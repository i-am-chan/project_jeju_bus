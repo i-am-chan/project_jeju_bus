{
 "cells": [
  {
   "cell_type": "code",
   "execution_count": 1,
   "metadata": {},
   "outputs": [],
   "source": [
    "import pandas as pd\n",
    "import datetime\n",
    "import os"
   ]
  },
  {
   "cell_type": "code",
   "execution_count": 2,
   "metadata": {},
   "outputs": [],
   "source": [
    "start_datetime = '2019-06-01'"
   ]
  },
  {
   "cell_type": "code",
   "execution_count": 3,
   "metadata": {},
   "outputs": [],
   "source": [
    "# datetime_range = ['20190601']\n",
    "datetime_range = [str(datetime.date()).replace('-', '')\n",
    "                  for datetime in pd.date_range(start_datetime, periods=30, freq='D')]"
   ]
  },
  {
   "cell_type": "code",
   "execution_count": 4,
   "metadata": {},
   "outputs": [],
   "source": [
    "path_prefix = 'data/tb_bus_user_usage/'\n",
    "path_postfix = '_tb_bus_user_usage.csv'\n",
    "\n",
    "result_postfix = '_정류장별시간대별노선별유형별승차인원분석.csv'"
   ]
  },
  {
   "cell_type": "code",
   "execution_count": 5,
   "metadata": {},
   "outputs": [],
   "source": [
    "for path_infix in datetime_range:\n",
    "    df = pd.read_csv(path_prefix + path_infix + path_postfix,\n",
    "                     usecols=['route_id', 'route_no', 'geton_datetime', \n",
    "                              'geton_station_id', 'geton_stataion_name', 'user_type', 'user_count'],\n",
    "#                               'geton_station_id', 'user_type', 'user_count'],\n",
    "                     encoding='utf-8')\n",
    "    \n",
    "    df.loc[:, 'geton_datetime'] = df['geton_datetime'].astype(str)\n",
    "    \n",
    "    df.loc[:, 'geton_datetime'] = df['geton_datetime'].apply(lambda datetime: pd.to_datetime(datetime))\n",
    "    \n",
    "    df.loc[:, 'geton_hour'] = [date.hour for date in df['geton_datetime']]\n",
    "    \n",
    "    df.loc[:, 'geton_minute'] = [int(date.minute/30)/2 for date in df['geton_datetime']]\n",
    "    # (예) 35분 -> 0.5, 22분 -> 0으로 환산.\n",
    "    \n",
    "    df.loc[:, 'geton_hour'] = df.loc[:, 'geton_hour'] + df.loc[:, 'geton_minute']\n",
    "    \n",
    "    del df['geton_datetime']\n",
    "    del df['geton_minute']\n",
    "    \n",
    "    grouped = df.groupby(by=['geton_station_id', 'geton_stataion_name', 'route_id', 'route_no', 'user_type', 'geton_hour'], \n",
    "                         as_index=False)\n",
    "    grouped[['user_count']].sum().to_csv(path_infix + result_postfix, encoding='ms949')\n",
    "    \n",
    "print('batch done...')"
   ]
  },
  {
   "cell_type": "code",
   "execution_count": null,
   "metadata": {},
   "outputs": [],
   "source": []
  }
 ],
 "metadata": {
  "kernelspec": {
   "display_name": "Python 3",
   "language": "python",
   "name": "python3"
  },
  "language_info": {
   "codemirror_mode": {
    "name": "ipython",
    "version": 3
   },
   "file_extension": ".py",
   "mimetype": "text/x-python",
   "name": "python",
   "nbconvert_exporter": "python",
   "pygments_lexer": "ipython3",
   "version": "3.7.3"
  }
 },
 "nbformat": 4,
 "nbformat_minor": 2
}
