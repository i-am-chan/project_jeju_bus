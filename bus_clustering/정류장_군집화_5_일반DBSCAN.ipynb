{
 "cells": [
  {
   "cell_type": "code",
   "execution_count": 1,
   "metadata": {},
   "outputs": [],
   "source": [
    "import pandas as pd\n",
    "import numpy as np\n",
    "from sklearn.cluster import DBSCAN\n",
    "import matplotlib.pyplot as plt"
   ]
  },
  {
   "cell_type": "markdown",
   "metadata": {},
   "source": [
    "#### 1-1 정류장 파일 읽어온 뒤, 'city(시)' 필드 추가\n",
    "#### 1-2 제주시, 서귀포시 정류장 dataframe 생성"
   ]
  },
  {
   "cell_type": "code",
   "execution_count": 2,
   "metadata": {},
   "outputs": [],
   "source": [
    "result_path = r'C:\\Users\\think\\Desktop\\버스 정류장 클러스터링'.replace('\\\\', '/')\n",
    "path = r'D:\\jeju_bus_data_no_leakage\\station'.replace('\\\\', '/')\n",
    "df = pd.read_csv(path + '/station_final.csv', encoding = 'ansi')\n",
    "df['city'] = df['STATION_ADDR']\n",
    "df.loc[:, 'city'] = df.loc[:, 'STATION_ADDR'].apply(lambda string: string.split(' ')[0])\n",
    "                    # (예) 'STATION_ADDR': 서귀포시 중문동 ... ☞ 'city': 서귀포시\n",
    "\n",
    "df_jeju_station     = df.query('city == \"제주시\"')\n",
    "df_seogwipo_station = df.query('city == \"서귀포시\"')\n",
    "\n",
    "list_station_df_per_city = [df_jeju_station, df_seogwipo_station]"
   ]
  },
  {
   "cell_type": "code",
   "execution_count": 3,
   "metadata": {},
   "outputs": [],
   "source": [
    "def get_n_level_spatial_dbscan_result \\\n",
    "    (n, eps, df, df_cols=['LOCAL_X','LOCAL_Y'], algorithm='ball_tree', metric='haversine', min_pts=3, eps_measure='m'):\n",
    "    earth_radius = 6371.0088 # 단위: km\n",
    "    div = 1000 if eps_measure == 'm' else 1\n",
    "    dbscan = DBSCAN(eps=eps/div/earth_radius, min_samples=min_pts, algorithm=algorithm, metric=metric)\n",
    "\n",
    "    temp_df = df.loc[:, df_cols]\n",
    "    temp_df.loc[:, 'target'] = dbscan.fit_predict(np.radians(temp_df))\n",
    "    \n",
    "    success_index = temp_df.query('target > -1').index ; temp_df.loc[success_index, 'level'] = n \n",
    "    failed_index = set(temp_df.index) - set(success_index) ; temp_df.loc[failed_index, 'level'] = -1\n",
    "    \n",
    "    return temp_df"
   ]
  },
  {
   "cell_type": "code",
   "execution_count": 4,
   "metadata": {},
   "outputs": [],
   "source": [
    "def get_noise_handled_result(df, df_cols=['LOCAL_X','LOCAL_Y'], n=3, column1='STATION_NM', column2='STATION_ID'):\n",
    "    df.loc[:, 'target'] = -1 ; df.loc[:, 'level'] = -1\n",
    "    \n",
    "    grouped = df.groupby(by = column1, as_index = False)\n",
    "    list_station_nm = list(grouped.count()[grouped.count()[column2] >= 2][column1])\n",
    "    target_range = np.arange(len(list_station_nm))\n",
    "    \n",
    "    for i in target_range:\n",
    "        list_idx = df.query('%s == \"%s\"' % (column1, list_station_nm[i])).index\n",
    "        for idx in list_idx: df.loc[idx, 'target'] = i ; df.loc[idx, 'level'] = n\n",
    "    \n",
    "    return df[df_cols + ['target', 'level']]"
   ]
  },
  {
   "cell_type": "code",
   "execution_count": 5,
   "metadata": {},
   "outputs": [],
   "source": [
    "def get_noise_result(df, n=4):\n",
    "    df.loc[:, 'level'] = n ; return df"
   ]
  },
  {
   "cell_type": "code",
   "execution_count": 6,
   "metadata": {},
   "outputs": [],
   "source": [
    "def get_spatial_dbscan_result(eps, station_df):\n",
    "    df_lv1_group = get_n_level_spatial_dbscan_result(1, eps, station_df)\n",
    "    df_lv2_group = get_n_level_spatial_dbscan_result(2, eps, df_lv1_group.query('target == -1'), min_pts=2)\n",
    "\n",
    "    df_noise_handled_group = get_noise_handled_result(station_df.loc[df_lv2_group.query('target == -1').index])\n",
    "    df_noise_group = get_noise_result(df_noise_handled_group.query('target == -1'))\n",
    "\n",
    "    r1 = df_lv1_group.query('target > -1')\n",
    "    r2 = df_lv2_group.query('target > -1')\n",
    "    r3 = df_noise_handled_group.query('target > -1')\n",
    "    r4 = df_noise_group\n",
    "\n",
    "    combined = pd.concat([r1, r2, r3, r4])\n",
    "    return combined"
   ]
  },
  {
   "cell_type": "code",
   "execution_count": 12,
   "metadata": {},
   "outputs": [
    {
     "name": "stderr",
     "output_type": "stream",
     "text": [
      "C:\\ProgramData\\Anaconda3\\lib\\site-packages\\pandas\\core\\indexing.py:543: SettingWithCopyWarning: \n",
      "A value is trying to be set on a copy of a slice from a DataFrame.\n",
      "Try using .loc[row_indexer,col_indexer] = value instead\n",
      "\n",
      "See the caveats in the documentation: http://pandas.pydata.org/pandas-docs/stable/indexing.html#indexing-view-versus-copy\n",
      "  self.obj[item] = s\n",
      "C:\\ProgramData\\Anaconda3\\lib\\site-packages\\pandas\\core\\indexing.py:543: SettingWithCopyWarning: \n",
      "A value is trying to be set on a copy of a slice from a DataFrame.\n",
      "Try using .loc[row_indexer,col_indexer] = value instead\n",
      "\n",
      "See the caveats in the documentation: http://pandas.pydata.org/pandas-docs/stable/indexing.html#indexing-view-versus-copy\n",
      "  self.obj[item] = s\n"
     ]
    }
   ],
   "source": [
    "#list_station_cnt_per_group_per_level_per_eps_per_city = []\n",
    "eps_list = [110, 95]\n",
    "list_df_combined = []\n",
    "\n",
    "for i, station_df in enumerate(list_station_df_per_city):\n",
    "    #list_station_cnt_per_group_per_level_per_eps_per_city.append(pd.DataFrame(columns=[1., 2., 3., 4.]))\n",
    "    \n",
    "    eps = eps_list[i]\n",
    "    # eps에 따른 dbscan 수행.\n",
    "    df_combined = get_spatial_dbscan_result(eps, station_df)\n",
    "    df_combined['_tmp'] = '-'\n",
    "    df_combined.loc[:, 'level'] = df_combined['level'].astype(str)\n",
    "    df_combined.loc[:, 'target'] = df_combined['target'].astype(str)\n",
    "    \n",
    "    df_combined['level-target'] = df_combined['level'] + df_combined['_tmp'] + df_combined['target']\n",
    "    \n",
    "    del df_combined['_tmp']\n",
    "\n",
    "    # lv별 grouping -> count -> 저장.\n",
    "    list_df_combined.append(df_combined)"
   ]
  },
  {
   "cell_type": "code",
   "execution_count": null,
   "metadata": {},
   "outputs": [],
   "source": []
  },
  {
   "cell_type": "code",
   "execution_count": 18,
   "metadata": {},
   "outputs": [
    {
     "data": {
      "text/plain": [
       "array(['1.0-0', '1.0-1', '1.0-101', '1.0-2', '1.0-3', '1.0-4', '1.0-5',\n",
       "       '1.0-6', '1.0-7'], dtype=object)"
      ]
     },
     "execution_count": 18,
     "metadata": {},
     "output_type": "execute_result"
    }
   ],
   "source": [
    "list_df_combined[0]['level-target'].unique()[1:10]"
   ]
  },
  {
   "cell_type": "code",
   "execution_count": 22,
   "metadata": {},
   "outputs": [
    {
     "name": "stdout",
     "output_type": "stream",
     "text": [
      "1.0-0\n",
      "         LOCAL_X    LOCAL_Y target level level-target\n",
      "5     126.525833  33.500017      0   1.0        1.0-0\n",
      "6     126.523759  33.499789      0   1.0        1.0-0\n",
      "1006  126.524706  33.500095      0   1.0        1.0-0\n",
      "2678  126.525625  33.500228      0   1.0        1.0-0\n",
      "3030  126.525892  33.500031      0   1.0        1.0-0\n",
      "1.0-1\n",
      "         LOCAL_X    LOCAL_Y target level level-target\n",
      "17    126.675754  33.534836      1   1.0        1.0-1\n",
      "18    126.675601  33.534663      1   1.0        1.0-1\n",
      "1147  126.675961  33.534260      1   1.0        1.0-1\n",
      "2583  126.675933  33.533639      1   1.0        1.0-1\n",
      "1.0-101\n",
      "         LOCAL_X    LOCAL_Y target level level-target\n",
      "21    126.550757  33.456718    101   1.0      1.0-101\n",
      "1394  126.551750  33.456267    101   1.0      1.0-101\n",
      "2063  126.551050  33.456733    101   1.0      1.0-101\n",
      "1.0-2\n",
      "         LOCAL_X    LOCAL_Y target level level-target\n",
      "30    126.455461  33.496234      2   1.0        1.0-2\n",
      "87    126.456183  33.495267      2   1.0        1.0-2\n",
      "88    126.456236  33.495461      2   1.0        1.0-2\n",
      "1871  126.455387  33.496326      2   1.0        1.0-2\n",
      "1.0-3\n",
      "         LOCAL_X    LOCAL_Y target level level-target\n",
      "37    126.635231  33.519573      3   1.0        1.0-3\n",
      "38    126.634933  33.519117      3   1.0        1.0-3\n",
      "1575  126.634100  33.518950      3   1.0        1.0-3\n",
      "1576  126.633987  33.519121      3   1.0        1.0-3\n",
      "1.0-4\n",
      "         LOCAL_X    LOCAL_Y target level level-target\n",
      "39    126.593615  33.491684      4   1.0        1.0-4\n",
      "245   126.592455  33.491508      4   1.0        1.0-4\n",
      "246   126.592756  33.491539      4   1.0        1.0-4\n",
      "1092  126.593536  33.492051      4   1.0        1.0-4\n",
      "1.0-5\n",
      "         LOCAL_X    LOCAL_Y target level level-target\n",
      "44    126.513867  33.510917      5   1.0        1.0-5\n",
      "1079  126.513233  33.509733      5   1.0        1.0-5\n",
      "2225  126.513717  33.510933      5   1.0        1.0-5\n",
      "2473  126.513333  33.509950      5   1.0        1.0-5\n",
      "1.0-6\n",
      "         LOCAL_X    LOCAL_Y target level level-target\n",
      "45    126.515267  33.509583      6   1.0        1.0-6\n",
      "294   126.515700  33.510783      6   1.0        1.0-6\n",
      "1095  126.514883  33.509700      6   1.0        1.0-6\n",
      "1.0-7\n",
      "         LOCAL_X    LOCAL_Y target level level-target\n",
      "46    126.488917  33.489900      7   1.0        1.0-7\n",
      "1097  126.488528  33.490016      7   1.0        1.0-7\n",
      "3022  126.488940  33.489899      7   1.0        1.0-7\n",
      "3024  126.488562  33.490018      7   1.0        1.0-7\n",
      "3428  126.490235  33.490792      7   1.0        1.0-7\n",
      "3436  126.490037  33.491161      7   1.0        1.0-7\n",
      "3721  126.489349  33.491580      7   1.0        1.0-7\n",
      "3733  126.488779  33.491520      7   1.0        1.0-7\n"
     ]
    }
   ],
   "source": [
    "for level_target in list_df_combined[0]['level-target'].unique()[1:10]:\n",
    "    print(level_target)\n",
    "    print(list_df_combined[0][ list_df_combined[0]['level-target'] == level_target ])"
   ]
  },
  {
   "cell_type": "markdown",
   "metadata": {},
   "source": [
    "# "
   ]
  },
  {
   "cell_type": "code",
   "execution_count": 9,
   "metadata": {},
   "outputs": [
    {
     "ename": "AttributeError",
     "evalue": "'NoneType' object has no attribute 'query'",
     "output_type": "error",
     "traceback": [
      "\u001b[1;31m---------------------------------------------------------------------------\u001b[0m",
      "\u001b[1;31mAttributeError\u001b[0m                            Traceback (most recent call last)",
      "\u001b[1;32m<ipython-input-9-9a1314fa93c5>\u001b[0m in \u001b[0;36m<module>\u001b[1;34m\u001b[0m\n\u001b[0;32m      2\u001b[0m \u001b[1;33m\u001b[0m\u001b[0m\n\u001b[0;32m      3\u001b[0m \u001b[0mi\u001b[0m \u001b[1;33m=\u001b[0m \u001b[1;36m0\u001b[0m\u001b[1;33m\u001b[0m\u001b[1;33m\u001b[0m\u001b[0m\n\u001b[1;32m----> 4\u001b[1;33m \u001b[0minstance\u001b[0m \u001b[1;33m=\u001b[0m \u001b[0mlist_df_combined\u001b[0m\u001b[1;33m[\u001b[0m\u001b[0mi\u001b[0m\u001b[1;33m]\u001b[0m\u001b[1;33m.\u001b[0m\u001b[0mquery\u001b[0m\u001b[1;33m(\u001b[0m\u001b[1;34m'level != \"4.0\"'\u001b[0m\u001b[1;33m)\u001b[0m\u001b[1;33m\u001b[0m\u001b[1;33m\u001b[0m\u001b[0m\n\u001b[0m\u001b[0;32m      5\u001b[0m \u001b[1;33m\u001b[0m\u001b[0m\n\u001b[0;32m      6\u001b[0m \u001b[0mplt\u001b[0m\u001b[1;33m.\u001b[0m\u001b[0mrcParams\u001b[0m\u001b[1;33m[\u001b[0m\u001b[1;34m'font.size'\u001b[0m\u001b[1;33m]\u001b[0m \u001b[1;33m=\u001b[0m \u001b[1;36m12\u001b[0m\u001b[1;33m\u001b[0m\u001b[1;33m\u001b[0m\u001b[0m\n",
      "\u001b[1;31mAttributeError\u001b[0m: 'NoneType' object has no attribute 'query'"
     ]
    }
   ],
   "source": [
    "fig_title = '제주시 버스 정류장 군집화 (2019)'\n",
    "\n",
    "i = 0\n",
    "instance = list_df_combined[i].query('level != \"4.0\"')\n",
    "\n",
    "plt.rcParams['font.size'] = 12\n",
    "plt.rcParams['font.family'] = 'Malgun Gothic'\n",
    "plt.figure(figsize=(20, 12))\n",
    "plt.grid(True, which='both')\n",
    "\n",
    "list_level_target = instance['level-target'].unique()\n",
    "for level_target in list_level_target:\n",
    "    _query = instance[ instance['level-target'] == level_target ]\n",
    "    #_query = instance.query('level-target == \"%s\"' % level_target)\n",
    "    # => 불안정: 많은 도서/온라인에서 실무에서의 .query() 사용을 자제하라는 이유를 알 수 있는 사례였음.\n",
    "    _x, _y = _query['LOCAL_X'], _query['LOCAL_Y']\n",
    "    plt.scatter(x = _x, y = _y, marker = 'o', \n",
    "                alpha = '0.2', edgecolors = 'white')\n",
    "\n",
    "#plt.legend()\n",
    "plt.xlabel('경도')\n",
    "plt.ylabel('위도')\n",
    "plt.title(fig_title)\n",
    "\n",
    "plt.gcf().savefig(result_path + '/' + fig_title)\n",
    "plt.show()"
   ]
  },
  {
   "cell_type": "code",
   "execution_count": null,
   "metadata": {},
   "outputs": [],
   "source": []
  },
  {
   "cell_type": "code",
   "execution_count": null,
   "metadata": {},
   "outputs": [],
   "source": []
  },
  {
   "cell_type": "code",
   "execution_count": null,
   "metadata": {},
   "outputs": [],
   "source": [
    "fig_title = '서귀포시 버스 정류장 군집화 (2019)'\n",
    "\n",
    "i = 1\n",
    "instance = list_df_combined[i].query('level != \"4.0\"')\n",
    "\n",
    "plt.rcParams['font.size'] = 12\n",
    "plt.rcParams['font.family'] = 'Malgun Gothic'\n",
    "plt.figure(figsize=(20, 12))\n",
    "plt.grid(True, which='both')\n",
    "\n",
    "list_level_target = instance['level-target'].unique()\n",
    "for level_target in list_level_target:\n",
    "    _query = instance[ instance['level-target'] == level_target ]\n",
    "    #_query = instance.query('level-target == \"%s\"' % level_target)\n",
    "    # => 불안정: 많은 도서/온라인에서 실무에서의 .query() 사용을 자제하라는 이유를 알 수 있는 사례였음.\n",
    "    _x, _y = _query['LOCAL_X'], _query['LOCAL_Y']\n",
    "    plt.scatter(x = _x, y = _y, marker = 'o', \n",
    "                alpha = '0.2', edgecolors = 'white')\n",
    "\n",
    "#plt.legend()\n",
    "plt.xlabel('경도')\n",
    "plt.ylabel('위도')\n",
    "plt.title(fig_title)\n",
    "\n",
    "plt.gcf().savefig(result_path + '/' + fig_title)\n",
    "plt.show()"
   ]
  },
  {
   "cell_type": "code",
   "execution_count": null,
   "metadata": {},
   "outputs": [],
   "source": []
  }
 ],
 "metadata": {
  "kernelspec": {
   "display_name": "Python 3",
   "language": "python",
   "name": "python3"
  },
  "language_info": {
   "codemirror_mode": {
    "name": "ipython",
    "version": 3
   },
   "file_extension": ".py",
   "mimetype": "text/x-python",
   "name": "python",
   "nbconvert_exporter": "python",
   "pygments_lexer": "ipython3",
   "version": "3.7.3"
  }
 },
 "nbformat": 4,
 "nbformat_minor": 2
}
