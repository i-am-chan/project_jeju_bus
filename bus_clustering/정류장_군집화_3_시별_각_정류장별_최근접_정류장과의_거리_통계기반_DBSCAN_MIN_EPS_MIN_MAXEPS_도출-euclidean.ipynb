{
 "cells": [
  {
   "cell_type": "markdown",
   "metadata": {},
   "source": [
    "# 1. 위도, 경도로 거리 구하는 프로그램"
   ]
  },
  {
   "cell_type": "code",
   "execution_count": 1,
   "metadata": {},
   "outputs": [],
   "source": [
    "import numbers\n",
    "import math\n",
    "\n",
    "class GeoUtil:\n",
    "    \"\"\"\n",
    "    Geographical Utils\n",
    "    실제 km를 알고 싶다면 haversine 를 이용하고\n",
    "    그렇지 않고 더 빠른 속도로 단순 비교를 위한 용도라면 euclidean 를 이용할 수 있다.\n",
    "    \n",
    "    인용: https://blog.naver.com/wideeyed/221406744173\n",
    "    \"\"\"\n",
    "    @staticmethod\n",
    "    def degree2radius(degree):\n",
    "        return degree * (math.pi/180)\n",
    "    \n",
    "    @staticmethod\n",
    "    def get_harversion_distance(x1, y1, x2, y2, round_decimal_digits=5):\n",
    "        \"\"\"\n",
    "        경위도 (x1,y1)과 (x2,y2) 점의 거리를 반환\n",
    "        Harversion Formula 이용하여 2개의 경위도간 거래를 구함(단위:Km)\n",
    "        \"\"\"\n",
    "        if x1 is None or y1 is None or x2 is None or y2 is None:\n",
    "            return None\n",
    "        assert isinstance(x1, numbers.Number) and -180 <= x1 and x1 <= 180\n",
    "        assert isinstance(y1, numbers.Number) and  -90 <= y1 and y1 <=  90\n",
    "        assert isinstance(x2, numbers.Number) and -180 <= x2 and x2 <= 180\n",
    "        assert isinstance(y2, numbers.Number) and  -90 <= y2 and y2 <=  90\n",
    "\n",
    "        R = 6371 # 지구의 반경(단위: km)\n",
    "        dLon = GeoUtil.degree2radius(x2-x1)    \n",
    "        dLat = GeoUtil.degree2radius(y2-y1)\n",
    "\n",
    "        a = math.sin(dLat/2) * math.sin(dLat/2) \\\n",
    "            + (math.cos(GeoUtil.degree2radius(y1)) \\\n",
    "              *math.cos(GeoUtil.degree2radius(y2)) \\\n",
    "              *math.sin(dLon/2) * math.sin(dLon/2))\n",
    "        b = 2 * math.atan2(math.sqrt(a), math.sqrt(1-a))\n",
    "        return round(R * b, round_decimal_digits)\n",
    "\n",
    "    @staticmethod\n",
    "    def get_euclidean_distance(x1, y1, x2, y2, round_decimal_digits=5):        \n",
    "        \"\"\"\n",
    "        유클리안 Formula 이용하여 (x1,y1)과 (x2,y2) 점의 거리를 반환\n",
    "        \"\"\"\n",
    "        if x1 is None or y1 is None or x2 is None or y2 is None:\n",
    "            return None\n",
    "        assert isinstance(x1, numbers.Number) and -180 <= x1 and x1 <= 180\n",
    "        assert isinstance(y1, numbers.Number) and  -90 <= y1 and y1 <=  90\n",
    "        assert isinstance(x2, numbers.Number) and -180 <= x2 and x2 <= 180\n",
    "        assert isinstance(y2, numbers.Number) and  -90 <= y2 and y2 <=  90\n",
    "\n",
    "        dLon = abs(x2-x1) # 경도 차이\n",
    "        if dLon >= 180:   # 반대편으로 갈 수 있는 경우\n",
    "            dLon -= 360   # 반대편 각을 구한다\n",
    "        dLat = y2-y1      # 위도 차이\n",
    "        return round(math.sqrt(pow(dLon,2)+pow(dLat,2)),round_decimal_digits)"
   ]
  },
  {
   "cell_type": "code",
   "execution_count": 2,
   "metadata": {},
   "outputs": [
    {
     "data": {
      "text/plain": [
       "(8.78676, 0.0845)"
      ]
     },
     "execution_count": 2,
     "metadata": {},
     "output_type": "execute_result"
    }
   ],
   "source": [
    "GeoUtil.get_harversion_distance(126.97843, 37.56668, 127.02758, 37.49794), GeoUtil.get_euclidean_distance(126.97843, 37.56668, 127.02758, 37.49794) # 테스트"
   ]
  },
  {
   "cell_type": "markdown",
   "metadata": {},
   "source": [
    "# 2. 각 정류장에 대해 \n",
    "# 가장 인접한 정류장과의 거리 계산 프로그램\n",
    "### eunclidean"
   ]
  },
  {
   "cell_type": "code",
   "execution_count": 3,
   "metadata": {},
   "outputs": [],
   "source": [
    "import sys\n",
    "\n",
    "def get_dist_from_most_adjacent_station_per_each_station(df):\n",
    "    local_X_list, local_Y_list = list(df['LOCAL_X']), list(df['LOCAL_Y'])\n",
    "    local_list = [(local_X_list[i], local_Y_list[i]) for i in range(len(local_X_list))]\n",
    "    \n",
    "    min_dist_list = []\n",
    "\n",
    "    for i in range(len(local_list)):\n",
    "        minimum = sys.maxsize\n",
    "        \n",
    "        temp = 0\n",
    "        \n",
    "        for j in range(len(local_list)):\n",
    "            if i == j:\n",
    "                continue\n",
    "\n",
    "            dist = GeoUtil.get_euclidean_distance(local_list[i][0], local_list[i][1],\n",
    "                                                   local_list[j][0], local_list[j][1])\n",
    "            if minimum > dist:\n",
    "                temp = j\n",
    "                minimum = dist\n",
    "\n",
    "        if dist == 0:\n",
    "            print(i, j)\n",
    "\n",
    "        dist = minimum\n",
    "        min_dist_list.append(dist)\n",
    "\n",
    "    min_dist_list.sort()\n",
    "    min_dist_list = pd.Series(min_dist_list)\n",
    "    \n",
    "    return min_dist_list"
   ]
  },
  {
   "cell_type": "markdown",
   "metadata": {},
   "source": [
    "# 3. 제주도 수행 결과"
   ]
  },
  {
   "cell_type": "code",
   "execution_count": 4,
   "metadata": {},
   "outputs": [],
   "source": [
    "import pandas as pd\n",
    "\n",
    "path = r'D:\\jeju_bus_data_no_leakage\\station'.replace('\\\\', '/')\n",
    "result_path = r'C:\\Users\\think\\Desktop\\버스 정류장 클러스터링\\euclidean'.replace('\\\\', '/')\n",
    "df = pd.read_csv(path + '/' + 'station_final.csv', encoding='ansi')\n",
    "df['city'] = df['STATION_ADDR']\n",
    "df.loc[:, 'city'] = df.loc[:, 'STATION_ADDR'].apply(lambda string: string.split(' ')[0])\n",
    "\n",
    "import matplotlib.pyplot as plt\n",
    "import numpy as np"
   ]
  },
  {
   "cell_type": "code",
   "execution_count": 5,
   "metadata": {},
   "outputs": [
    {
     "data": {
      "image/png": "[encoded data removed]",
      "text/plain": [
       "<Figure size 720x475.2 with 1 Axes>"
      ]
     },
     "metadata": {
      "needs_background": "light"
     },
     "output_type": "display_data"
    }
   ],
   "source": [
    "min_dist_list = get_dist_from_most_adjacent_station_per_each_station(df)\n",
    "jejudo = min_dist_list\n",
    "\n",
    "fig_title = '제주특별자치도 각 정류장의 최근접(k = 1) 정류장과의 거리 통계 그래프'\n",
    "\n",
    "plt.rcParams['font.size'] = 12\n",
    "plt.rcParams['font.family'] = 'Malgun Gothic'\n",
    "plt.figure(figsize=(10, 6.6))\n",
    "# 6:4 = 10: 6.6 ... plt.rcParams['figure.figsize']\n",
    "\n",
    "\n",
    "plt.grid()\n",
    "plt.rc('font', family='Malgun Gothic')\n",
    "plt.title(fig_title)\n",
    "plt.xlabel('정류장(최근접 정류장과의 거리가 짧은 순으로 배치)')\n",
    "plt.ylabel('거리(km)')\n",
    "plt.plot(jejudo, color = 'skyblue')\n",
    "plt.gcf().savefig(result_path + '/' + fig_title)\n",
    "plt.show()"
   ]
  },
  {
   "cell_type": "code",
   "execution_count": 6,
   "metadata": {},
   "outputs": [
    {
     "data": {
      "text/plain": [
       "(0.0005115275590551159, 0.02198, 0.0)"
      ]
     },
     "execution_count": 6,
     "metadata": {},
     "output_type": "execute_result"
    }
   ],
   "source": [
    "min_dist_list.mean(), min_dist_list.max(), min_dist_list.min() # 단위: km"
   ]
  },
  {
   "cell_type": "code",
   "execution_count": 16,
   "metadata": {},
   "outputs": [
    {
     "data": {
      "text/plain": [
       "0.01004"
      ]
     },
     "execution_count": 16,
     "metadata": {},
     "output_type": "execute_result"
    }
   ],
   "source": [
    "jejudo[3807] # inflection point check"
   ]
  },
  {
   "cell_type": "markdown",
   "metadata": {},
   "source": [
    "# 4. 서귀포시 수행 결과"
   ]
  },
  {
   "cell_type": "code",
   "execution_count": 7,
   "metadata": {},
   "outputs": [],
   "source": [
    "seogwipo_city_station_df = df.query('city == \"서귀포시\"')"
   ]
  },
  {
   "cell_type": "code",
   "execution_count": 8,
   "metadata": {},
   "outputs": [
    {
     "data": {
      "image/png": "[encoded data removed]",
      "text/plain": [
       "<Figure size 720x475.2 with 1 Axes>"
      ]
     },
     "metadata": {
      "needs_background": "light"
     },
     "output_type": "display_data"
    }
   ],
   "source": [
    "min_dist_list = get_dist_from_most_adjacent_station_per_each_station(seogwipo_city_station_df)\n",
    "seogwipo = min_dist_list\n",
    "\n",
    "fig_title = '서귀포시 각 정류장의 최근접(k = 1) 정류장과의 거리 통계 그래프'\n",
    "\n",
    "plt.rcParams['font.size'] = 12\n",
    "plt.rcParams['font.family'] = 'Malgun Gothic'\n",
    "plt.figure(figsize=(10, 6.6))\n",
    "\n",
    "# 6:4 = 10: 6.6 ... plt.rcParams['figure.figsize']\n",
    "plt.grid()\n",
    "plt.rc('font', family='Malgun Gothic')\n",
    "plt.title(fig_title)\n",
    "plt.xlabel('정류장(최근접 정류장과의 거리가 짧은 순으로 배치)')\n",
    "plt.ylabel('거리(km)')\n",
    "plt.plot(seogwipo, color = 'green')\n",
    "plt.gcf().savefig(result_path + '/' + fig_title)\n",
    "plt.show()"
   ]
  },
  {
   "cell_type": "code",
   "execution_count": 9,
   "metadata": {},
   "outputs": [
    {
     "data": {
      "text/plain": [
       "(0.0005691360294117654, 0.02418, 0.0)"
      ]
     },
     "execution_count": 9,
     "metadata": {},
     "output_type": "execute_result"
    }
   ],
   "source": [
    "min_dist_list.mean(), min_dist_list.max(), min_dist_list.min() # 단위: km"
   ]
  },
  {
   "cell_type": "code",
   "execution_count": 17,
   "metadata": {},
   "outputs": [
    {
     "data": {
      "text/plain": [
       "0.00229"
      ]
     },
     "execution_count": 17,
     "metadata": {},
     "output_type": "execute_result"
    }
   ],
   "source": [
    "seogwipo[1600] # inflection point check"
   ]
  },
  {
   "cell_type": "markdown",
   "metadata": {},
   "source": [
    "# 5. 제주시 수행 결과"
   ]
  },
  {
   "cell_type": "code",
   "execution_count": 10,
   "metadata": {},
   "outputs": [
    {
     "data": {
      "image/png": "[encoded data removed]",
      "text/plain": [
       "<Figure size 720x475.2 with 1 Axes>"
      ]
     },
     "metadata": {
      "needs_background": "light"
     },
     "output_type": "display_data"
    }
   ],
   "source": [
    "jeju_city_station_df = df.query('city == \"제주시\"')\n",
    "min_dist_list = get_dist_from_most_adjacent_station_per_each_station(jeju_city_station_df)\n",
    "jejusi = min_dist_list[:-1] # 마지막 데이터가 지나치게 이상해서 임의로 미포함시킴...\n",
    "\n",
    "fig_title = '제주시 각 정류장의 최근접(k = 1) 정류장과의 거리 통계 그래프'\n",
    "\n",
    "plt.rcParams['font.size'] = 12\n",
    "plt.rcParams['font.family'] = 'Malgun Gothic'\n",
    "\n",
    "plt.figure(figsize=(10, 6.6))\n",
    "\n",
    "# 6:4 = 10: 6.6 ... plt.rcParams['figure.figsize']\n",
    "plt.grid()\n",
    "plt.rc('font', family='Malgun Gothic')\n",
    "plt.title(fig_title)\n",
    "plt.xlabel('정류장(최근접 정류장과의 거리가 짧은 순으로 배치)')\n",
    "plt.ylabel('거리(km)')\n",
    "plt.plot(jejusi, color = 'orange')\n",
    "plt.gcf().savefig(result_path + '/' + fig_title)\n",
    "plt.show()"
   ]
  },
  {
   "cell_type": "code",
   "execution_count": 11,
   "metadata": {
    "scrolled": true
   },
   "outputs": [
    {
     "data": {
      "text/plain": [
       "(0.0004965273311897112, 0.01389, 0.0)"
      ]
     },
     "execution_count": 11,
     "metadata": {},
     "output_type": "execute_result"
    }
   ],
   "source": [
    "jejusi.mean(), jejusi.max(), jejusi.min() # 단위: km"
   ]
  },
  {
   "cell_type": "code",
   "execution_count": 20,
   "metadata": {},
   "outputs": [
    {
     "data": {
      "text/plain": [
       "0.00696"
      ]
     },
     "execution_count": 20,
     "metadata": {},
     "output_type": "execute_result"
    }
   ],
   "source": [
    "jejusi[2174] # inflection point check"
   ]
  },
  {
   "cell_type": "code",
   "execution_count": null,
   "metadata": {},
   "outputs": [],
   "source": []
  }
 ],
 "metadata": {
  "kernelspec": {
   "display_name": "Python 3",
   "language": "python",
   "name": "python3"
  },
  "language_info": {
   "codemirror_mode": {
    "name": "ipython",
    "version": 3
   },
   "file_extension": ".py",
   "mimetype": "text/x-python",
   "name": "python",
   "nbconvert_exporter": "python",
   "pygments_lexer": "ipython3",
   "version": "3.7.3"
  }
 },
 "nbformat": 4,
 "nbformat_minor": 2
}
